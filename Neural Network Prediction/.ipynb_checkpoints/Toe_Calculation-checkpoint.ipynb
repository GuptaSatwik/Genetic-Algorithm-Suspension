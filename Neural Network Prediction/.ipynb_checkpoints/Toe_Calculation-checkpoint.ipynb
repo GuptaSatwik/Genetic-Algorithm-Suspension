{
 "cells": [
  {
   "cell_type": "code",
   "execution_count": 1,
   "metadata": {},
   "outputs": [],
   "source": [
    "import glob \n",
    "import random\n",
    "import numpy as np\n",
    "import pandas as pd\n",
    "import math\n",
    "import os\n",
    "import copy\n",
    "import matplotlib.pyplot as plt"
   ]
  },
  {
   "cell_type": "code",
   "execution_count": 2,
   "metadata": {},
   "outputs": [],
   "source": [
    "files=glob.glob(\"test_data/data_4/*.xlsx\",recursive=True)\n",
    "population=[]\n",
    "for i in range(0, len(files)):\n",
    "    parent=pd.read_excel(files[i],header=None).values\n",
    "    population.append(parent)\n",
    "population=np.array(population,dtype=object)\n"
   ]
  },
  {
   "cell_type": "code",
   "execution_count": 3,
   "metadata": {},
   "outputs": [
    {
     "data": {
      "text/plain": [
       "array([[[3941, -180.6, 475],\n",
       "        [4259, -180, 465],\n",
       "        [4081.7, -463.5, 257],\n",
       "        [3942.5, -185.48, 631],\n",
       "        [4318.1, -187, 627],\n",
       "        [4099.5, -451.5, 420],\n",
       "        [4031.6, -490.5, 311],\n",
       "        [4051.2, -218.8, 522.5]],\n",
       "\n",
       "       [[3942, -180.6, 475],\n",
       "        [4259, -180, 465],\n",
       "        [4081.7, -463.5, 257],\n",
       "        [3942.5, -185.48, 631],\n",
       "        [4318.1, -187, 627],\n",
       "        [4099.5, -451.5, 420],\n",
       "        [4031.6, -491.5, 309],\n",
       "        [4041.6, -219.8, 521.5]],\n",
       "\n",
       "       [[3942, -180.6, 475],\n",
       "        [4259, -180, 465],\n",
       "        [4081.7, -463.5, 257],\n",
       "        [3942.5, -185.48, 631],\n",
       "        [4318.1, -187, 627],\n",
       "        [4099.5, -451.5, 420],\n",
       "        [4031.6, -491.5, 309.5],\n",
       "        [4041.9, -219.8, 521.5]],\n",
       "\n",
       "       [[3942, -180.6, 475],\n",
       "        [4259, -180, 465],\n",
       "        [4081.7, -463.5, 257],\n",
       "        [3942.5, -185.48, 631],\n",
       "        [4318.1, -187, 627],\n",
       "        [4099.5, -451.5, 420],\n",
       "        [4031.6, -491.5, 310],\n",
       "        [4041.9, -219.8, 522.5]],\n",
       "\n",
       "       [[3942, -180.6, 475],\n",
       "        [4259, -180, 465],\n",
       "        [4081.7, -463.5, 257],\n",
       "        [3942.5, -185.48, 631],\n",
       "        [4318.1, -187, 627],\n",
       "        [4099.5, -451.5, 420],\n",
       "        [4033.6, -491.5, 310.5],\n",
       "        [4041.9, -219.8, 522.5]],\n",
       "\n",
       "       [[3942, -180.6, 475],\n",
       "        [4259, -180, 465],\n",
       "        [4081.7, -463.5, 257],\n",
       "        [3942.5, -185.48, 631],\n",
       "        [4318.1, -187, 627],\n",
       "        [4099.5, -451.5, 420],\n",
       "        [4033.6, -491.5, 311.5],\n",
       "        [4041.9, -218.8, 522.5]],\n",
       "\n",
       "       [[3938.95, -180.37, 485.07],\n",
       "        [4258.87, -180.38, 448.09],\n",
       "        [4081.92, -464.93, 262.12],\n",
       "        [3994.32, -185.39, 637.21],\n",
       "        [4312.1, -185.41, 607.15],\n",
       "        [4098.37, -453.93, 427.17],\n",
       "        [4031.55, -469.76, 325.24],\n",
       "        [4000.76, -187.14, 536.37]],\n",
       "\n",
       "       [[3937.67, -180, 485],\n",
       "        [4259, -180, 455],\n",
       "        [4082, -464.5, 262.68],\n",
       "        [3999, -185, 636.68],\n",
       "        [4312, -185, 606.68],\n",
       "        [4098.5, -453.5, 430.68],\n",
       "        [4031.5, -470.45, 324.36],\n",
       "        [4003.73, -187.95, 535.36]],\n",
       "\n",
       "       [[3939, -180, 485],\n",
       "        [4259, -180, 455],\n",
       "        [4083, -464.5, 253],\n",
       "        [4072.5, -186, 630],\n",
       "        [4312, -185, 601],\n",
       "        [4098.5, -453.5, 420],\n",
       "        [4034.5, -490.5, 311],\n",
       "        [4050.9, -208, 522]],\n",
       "\n",
       "       [[3942, -180.6, 475],\n",
       "        [4259, -180, 465],\n",
       "        [4081.7, -463.5, 257],\n",
       "        [3942.5, -185.48, 631],\n",
       "        [4318.1, -187, 627],\n",
       "        [4099.5, -451.5, 420],\n",
       "        [4031.6, -491.5, 309],\n",
       "        [4041.8, -216.8, 518.5]],\n",
       "\n",
       "       [[3942, -180.6, 475],\n",
       "        [4259, -180, 465],\n",
       "        [4081.7, -463.5, 257],\n",
       "        [3942.5, -185.48, 631],\n",
       "        [4318.1, -187, 627],\n",
       "        [4099.5, -451.5, 420],\n",
       "        [4031.6, -491.5, 310],\n",
       "        [4041.6, -216.8, 517.5]],\n",
       "\n",
       "       [[3942, -180.6, 475],\n",
       "        [4259, -180, 465],\n",
       "        [4081.7, -463.5, 257],\n",
       "        [3942.5, -185.48, 631],\n",
       "        [4318.1, -187, 627],\n",
       "        [4099.5, -451.5, 420],\n",
       "        [4033.6, -491.5, 311.5],\n",
       "        [4041.9, -218.8, 517.5]],\n",
       "\n",
       "       [[3942, -180.6, 475],\n",
       "        [4259, -180, 465],\n",
       "        [4081.7, -463.5, 257],\n",
       "        [3942.5, -185.48, 631],\n",
       "        [4318.1, -187, 627],\n",
       "        [4099.5, -451.5, 420],\n",
       "        [4031.6, -490.5, 309],\n",
       "        [4051.8, -218.8, 524.5]],\n",
       "\n",
       "       [[3942, -180.6, 475],\n",
       "        [4259, -180, 465],\n",
       "        [4081.7, -463.5, 257],\n",
       "        [3942.5, -185.48, 631],\n",
       "        [4318.1, -187, 627],\n",
       "        [4099.5, -451.5, 420],\n",
       "        [4031.6, -491.5, 309],\n",
       "        [4051.8, -216.8, 514.5]],\n",
       "\n",
       "       [[3942, -180.6, 475],\n",
       "        [4259, -180, 465],\n",
       "        [4081.7, -463.5, 257],\n",
       "        [3942.5, -185.48, 631],\n",
       "        [4318.1, -187, 627],\n",
       "        [4099.5, -451.5, 420],\n",
       "        [4031.6, -491.5, 312],\n",
       "        [4041.8, -216.8, 518.5]],\n",
       "\n",
       "       [[3942, -180.6, 475],\n",
       "        [4259, -180, 465],\n",
       "        [4081.7, -463.5, 257],\n",
       "        [3942.5, -185.48, 631],\n",
       "        [4318.1, -187, 627],\n",
       "        [4099.5, -451.5, 420],\n",
       "        [4033.6, -491.5, 311.5],\n",
       "        [4041.9, -214.8, 519.5]]], dtype=object)"
      ]
     },
     "execution_count": 3,
     "metadata": {},
     "output_type": "execute_result"
    }
   ],
   "source": [
    "all_geometry = []\n",
    "all_results = []\n",
    "for i in range(0, len(population)):\n",
    "    pop = pd.DataFrame(population[i])\n",
    "    pop = pop.drop(index=[20, 21], axis=0)\n",
    "    for i in range(pop.iloc[:,1].shape[0]):\n",
    "        if pop.iloc[i,1]==200:\n",
    "            break\n",
    "    for j in range(pop.iloc[:,1].shape[0]):\n",
    "        if pop.iloc[j,1]==-60:\n",
    "            break\n",
    "    geometry = pop.iloc[14:22, 1:4].values\n",
    "    results = pop.iloc[i:j+1, 1:6].values\n",
    "    all_geometry.append(geometry)\n",
    "    all_results.append(results)\n",
    "all_geometry = np.array(all_geometry)\n",
    "all_results = np.array(all_results)\n",
    "all_geometry"
   ]
  },
  {
   "cell_type": "code",
   "execution_count": 4,
   "metadata": {},
   "outputs": [],
   "source": [
    "def calculate_distance(pop):\n",
    "    distance=[]\n",
    "    distance2 =[]\n",
    "    n_factor = []\n",
    "    for i in range(pop.shape[0]):\n",
    "        geom=pop[i]\n",
    "        chassis_plane=[]\n",
    "        for j in [0,3]:\n",
    "            [x1,y1,z1]=geom[0+j]\n",
    "            [x2,y2,z2]=geom[1+j]\n",
    "            [x3,y3,z3]=geom[2+j]\n",
    "            x_coeff=y2*z3-z2*y3-z1*(y2-y3)+y1*(z2-z3)\n",
    "            y_coeff=x2*z3-z2*x3+z1*(x3-x2)+x1*(z2-z3)\n",
    "            z_coeff=x2*y3-y2*x3-x1*(y3-y2)+y1*(x3-x2)\n",
    "            const=y1*(x2*z3-z2*x3)-x1*(y2*z3-z2*y3)-z1*(x2*y3-y2*x3)\n",
    "            chassis_plane.append([x_coeff,y_coeff,z_coeff,const])\n",
    "\n",
    "        parameter=np.cross(chassis_plane[0][:-1],chassis_plane[1][:-1])\n",
    "        c=chassis_plane[0][0]*chassis_plane[1][1]-chassis_plane[1][0]*chassis_plane[0][1]\n",
    "        x=(chassis_plane[0][-1]*chassis_plane[1][1]-chassis_plane[1][-1]*chassis_plane[0][1])/c\n",
    "        y=-(chassis_plane[0][-1]*chassis_plane[1][0]-chassis_plane[1][-1]*chassis_plane[0][0])/c\n",
    "        z=0\n",
    "        point=[x,y,z]\n",
    "        mm1 = (point - geom[-2]).astype(float)\n",
    "#         mx = mm1[1]*parameter[2] - mm1[2]*parameter[1]\n",
    "#         my = mm1[0]*parameter[2] - mm1[2]*parameter[2]\n",
    "#         mz = mm1[0]*parameter[1] - mm1[1]*parameter[0]\n",
    "        mm = np.cross(mm1,parameter)\n",
    "        dlp = (math.sqrt(mm[0]**2 + mm[1]**2 + mm[2]**2))/(math.sqrt(parameter[0]**2 + parameter[1]**2 + parameter[2]**2))\n",
    "        distance2.append(dlp)\n",
    "        toe_points=geom[-2:]\n",
    "        pt=toe_points[0]\n",
    "        lambda_toe=(toe_points[1]-toe_points[0])\n",
    "        lambda_toe=lambda_toe.astype(float)\n",
    "        vl=np.cross(parameter,lambda_toe)\n",
    "        det=np.linalg.norm(np.dot(vl,pt-point)/np.linalg.norm(vl))\n",
    "        distance.append(det)\n",
    "        n_factor.append(det/dlp)\n",
    "        \n",
    "    return distance,point,pt,lambda_toe,parameter,distance2,n_factor"
   ]
  },
  {
   "cell_type": "code",
   "execution_count": 5,
   "metadata": {},
   "outputs": [],
   "source": [
    "distance,point,pt,lambda_toe,parameter,distance2,n_factor=calculate_distance(all_geometry)"
   ]
  },
  {
   "cell_type": "code",
   "execution_count": 6,
   "metadata": {},
   "outputs": [],
   "source": [
    "def calculate_distance2(pop):\n",
    "    cdistance = []\n",
    "    for i in range(pop.shape[0]):\n",
    "        geom=pop[i]\n",
    "        chassis_plane=[]\n",
    "        [x1,y1,z1]=geom[0]\n",
    "        [x2,y2,z2]=geom[1]\n",
    "        [x3,y3,z3]=geom[3]\n",
    "        x_coeff=y2*z3-z2*y3-z1*(y2-y3)+y1*(z2-z3)\n",
    "        y_coeff=x2*z3-z2*x3+z1*(x3-x2)+x1*(z2-z3)\n",
    "        z_coeff=x2*y3-y2*x3-x1*(y3-y2)+y1*(x3-x2)\n",
    "        const=y1*(x2*z3-z2*x3)-x1*(y2*z3-z2*y3)-z1*(x2*y3-y2*x3)\n",
    "        chassis_plane.append([x_coeff,y_coeff,z_coeff,const])\n",
    "        toe_point = geom[-1]\n",
    "        distance = abs(x_coeff*toe_point[0] + y_coeff*toe_point[1] + z_coeff*toe_point[2] + const)/math.sqrt(x_coeff**2+ y_coeff**2 + z_coeff**2)\n",
    "        cdistance.append(distance)\n",
    "    return cdistance"
   ]
  },
  {
   "cell_type": "code",
   "execution_count": 7,
   "metadata": {},
   "outputs": [],
   "source": [
    "cdistance = calculate_distance2(all_geometry)"
   ]
  },
  {
   "cell_type": "code",
   "execution_count": 8,
   "metadata": {},
   "outputs": [
    {
     "data": {
      "text/plain": [
       "7"
      ]
     },
     "execution_count": 8,
     "metadata": {},
     "output_type": "execute_result"
    }
   ],
   "source": [
    "distance.index(max(distance))"
   ]
  },
  {
   "cell_type": "code",
   "execution_count": 9,
   "metadata": {},
   "outputs": [
    {
     "ename": "IndexError",
     "evalue": "list index out of range",
     "output_type": "error",
     "traceback": [
      "\u001b[1;31m---------------------------------------------------------------------------\u001b[0m",
      "\u001b[1;31mIndexError\u001b[0m                                Traceback (most recent call last)",
      "\u001b[1;32m<ipython-input-9-f2c293109b1e>\u001b[0m in \u001b[0;36m<module>\u001b[1;34m()\u001b[0m\n\u001b[1;32m----> 1\u001b[1;33m \u001b[0mdistance\u001b[0m\u001b[1;33m[\u001b[0m\u001b[1;36m62\u001b[0m\u001b[1;33m]\u001b[0m\u001b[1;33m/\u001b[0m\u001b[1;36m40841.384200093264\u001b[0m\u001b[1;33m\u001b[0m\u001b[0m\n\u001b[0m",
      "\u001b[1;31mIndexError\u001b[0m: list index out of range"
     ]
    }
   ],
   "source": [
    "distance[62]/40841.384200093264"
   ]
  },
  {
   "cell_type": "code",
   "execution_count": 10,
   "metadata": {},
   "outputs": [
    {
     "data": {
      "text/plain": [
       "[1873.2855787105268,\n",
       " 1891.5141413780188,\n",
       " 1891.8495494897454,\n",
       " 1892.1850059193157,\n",
       " 1893.82976129229,\n",
       " 1894.5007806622898,\n",
       " 1512.7529034289016,\n",
       " 56967.700010764274,\n",
       " 13247.81599122639,\n",
       " 1891.5141413780188,\n",
       " 1892.1850059193157,\n",
       " 1894.5007806622898,\n",
       " 1891.1658227575742,\n",
       " 1891.5141413780188,\n",
       " 1893.5273143023733,\n",
       " 1894.5007806622898]"
      ]
     },
     "execution_count": 10,
     "metadata": {},
     "output_type": "execute_result"
    }
   ],
   "source": [
    "distance2"
   ]
  },
  {
   "cell_type": "code",
   "execution_count": 11,
   "metadata": {},
   "outputs": [
    {
     "data": {
      "text/plain": [
       "[400.5905941215608,\n",
       " 400.5905941215608,\n",
       " 400.5905941215608,\n",
       " 400.5905941215608,\n",
       " 400.5905941215608,\n",
       " 400.5905941215608,\n",
       " 400.5905941215608,\n",
       " 400.5905941215608,\n",
       " 400.5905941215608,\n",
       " 400.5905941215608,\n",
       " 400.5905941215608,\n",
       " 400.5905941215608,\n",
       " 400.5905941215608,\n",
       " 400.5905941215608,\n",
       " 401.5678954109812,\n",
       " 401.5678954109812,\n",
       " 401.5678954109812,\n",
       " 401.5678954109812,\n",
       " 401.5678954109812,\n",
       " 401.5678954109812,\n",
       " 401.5678954109812,\n",
       " 401.5678954109812,\n",
       " 401.5678954109812,\n",
       " 401.5678954109812,\n",
       " 401.5678954109812,\n",
       " 401.5678954109812,\n",
       " 401.5678954109812,\n",
       " 401.5678954109812,\n",
       " 401.56762379276483,\n",
       " 401.56762379276483,\n",
       " 401.56762379276483,\n",
       " 401.56762379276483,\n",
       " 401.56762379276483,\n",
       " 401.56762379276483,\n",
       " 401.56762379276483,\n",
       " 401.56762379276483,\n",
       " 401.56762379276483,\n",
       " 401.56762379276483,\n",
       " 401.56762379276483,\n",
       " 401.56762379276483,\n",
       " 401.56762379276483,\n",
       " 401.56762379276483,\n",
       " 401.5988934357353,\n",
       " 401.5988934357353,\n",
       " 401.5988934357353,\n",
       " 401.5988934357353,\n",
       " 401.5988934357353,\n",
       " 401.5988934357353,\n",
       " 401.5988934357353,\n",
       " 401.5988934357353,\n",
       " 401.5988934357353,\n",
       " 401.5988934357353,\n",
       " 401.5988934357353,\n",
       " 401.5988934357353,\n",
       " 401.5988934357353,\n",
       " 401.5988934357353,\n",
       " 401.5988934357353,\n",
       " 401.5988934357353,\n",
       " 401.5988934357353,\n",
       " 401.5988934357353,\n",
       " 401.5988934357353,\n",
       " 401.5988934357353,\n",
       " 401.5988934357353,\n",
       " 401.5988934357353,\n",
       " 401.5988934357353,\n",
       " 401.5988934357353,\n",
       " 401.5988934357353,\n",
       " 401.5988934357353,\n",
       " 401.5988934357353,\n",
       " 401.5988934357353,\n",
       " 400.59938286065864,\n",
       " 400.59938286065864,\n",
       " 400.59938286065864,\n",
       " 400.59938286065864,\n",
       " 400.59938286065864,\n",
       " 400.59938286065864,\n",
       " 400.59938286065864,\n",
       " 400.59938286065864,\n",
       " 400.59938286065864,\n",
       " 400.59938286065864,\n",
       " 400.59938286065864,\n",
       " 400.59938286065864,\n",
       " 400.59938286065864,\n",
       " 400.59938286065864,\n",
       " 369.17447416058315,\n",
       " 369.17447416058315,\n",
       " 369.17447416058315,\n",
       " 369.17447416058315,\n",
       " 369.17447416058315,\n",
       " 369.17447416058315,\n",
       " 369.17447416058315,\n",
       " 369.17447416058315,\n",
       " 369.17447416058315,\n",
       " 369.17447416058315,\n",
       " 369.17447416058315,\n",
       " 369.17447416058315,\n",
       " 369.17447416058315,\n",
       " 369.17447416058315,\n",
       " 369.55757439502685,\n",
       " 369.55757439502685,\n",
       " 369.55757439502685,\n",
       " 369.55757439502685,\n",
       " 369.55757439502685,\n",
       " 369.55757439502685,\n",
       " 369.55757439502685,\n",
       " 369.55757439502685,\n",
       " 369.55757439502685,\n",
       " 369.55757439502685,\n",
       " 369.55757439502685,\n",
       " 369.55757439502685,\n",
       " 369.55757439502685,\n",
       " 369.55757439502685,\n",
       " 389.5240159885101,\n",
       " 389.5240159885101,\n",
       " 389.5240159885101,\n",
       " 389.5240159885101,\n",
       " 389.5240159885101,\n",
       " 389.5240159885101,\n",
       " 389.5240159885101,\n",
       " 389.5240159885101,\n",
       " 389.5240159885101,\n",
       " 389.5240159885101,\n",
       " 389.5240159885101,\n",
       " 389.5240159885101,\n",
       " 389.5240159885101,\n",
       " 389.5240159885101,\n",
       " 398.4753736780286,\n",
       " 398.4753736780286,\n",
       " 398.4753736780286,\n",
       " 398.4753736780286,\n",
       " 398.4753736780286,\n",
       " 398.4753736780286,\n",
       " 398.4753736780286,\n",
       " 398.4753736780286,\n",
       " 398.4753736780286,\n",
       " 398.4753736780286,\n",
       " 398.4753736780286,\n",
       " 398.4753736780286,\n",
       " 398.4753736780286,\n",
       " 398.4753736780286,\n",
       " 398.44428511386906,\n",
       " 398.44428511386906,\n",
       " 398.44428511386906,\n",
       " 398.44428511386906,\n",
       " 398.44428511386906,\n",
       " 398.44428511386906,\n",
       " 398.44428511386906,\n",
       " 398.44428511386906,\n",
       " 398.44428511386906,\n",
       " 398.44428511386906,\n",
       " 398.44428511386906,\n",
       " 398.44428511386906,\n",
       " 398.44428511386906,\n",
       " 398.44428511386906,\n",
       " 400.443034645806,\n",
       " 400.443034645806,\n",
       " 400.443034645806,\n",
       " 400.443034645806,\n",
       " 400.443034645806,\n",
       " 400.443034645806,\n",
       " 400.443034645806,\n",
       " 400.443034645806,\n",
       " 400.443034645806,\n",
       " 400.443034645806,\n",
       " 400.443034645806,\n",
       " 400.443034645806,\n",
       " 400.443034645806,\n",
       " 400.443034645806,\n",
       " 400.6529587454581,\n",
       " 400.6529587454581,\n",
       " 400.6529587454581,\n",
       " 400.6529587454581,\n",
       " 400.6529587454581,\n",
       " 400.6529587454581,\n",
       " 400.6529587454581,\n",
       " 400.6529587454581,\n",
       " 400.6529587454581,\n",
       " 400.6529587454581,\n",
       " 400.6529587454581,\n",
       " 400.6529587454581,\n",
       " 400.6529587454581,\n",
       " 400.6529587454581,\n",
       " 398.3412411655995,\n",
       " 398.3412411655995,\n",
       " 398.3412411655995,\n",
       " 398.3412411655995,\n",
       " 398.3412411655995,\n",
       " 398.3412411655995,\n",
       " 398.3412411655995,\n",
       " 398.3412411655995,\n",
       " 398.3412411655995,\n",
       " 398.3412411655995,\n",
       " 398.3412411655995,\n",
       " 398.3412411655995,\n",
       " 398.3412411655995,\n",
       " 398.3412411655995,\n",
       " 398.4753736780286,\n",
       " 398.4753736780286,\n",
       " 398.4753736780286,\n",
       " 398.4753736780286,\n",
       " 398.4753736780286,\n",
       " 398.4753736780286,\n",
       " 398.4753736780286,\n",
       " 398.4753736780286,\n",
       " 398.4753736780286,\n",
       " 398.4753736780286,\n",
       " 398.4753736780286,\n",
       " 398.4753736780286,\n",
       " 398.4753736780286,\n",
       " 398.4753736780286,\n",
       " 396.5075316314403,\n",
       " 396.5075316314403,\n",
       " 396.5075316314403,\n",
       " 396.5075316314403,\n",
       " 396.5075316314403,\n",
       " 396.5075316314403,\n",
       " 396.5075316314403,\n",
       " 396.5075316314403,\n",
       " 396.5075316314403,\n",
       " 396.5075316314403,\n",
       " 396.5075316314403,\n",
       " 396.5075316314403,\n",
       " 396.5075316314403,\n",
       " 396.5075316314403]"
      ]
     },
     "execution_count": 11,
     "metadata": {},
     "output_type": "execute_result"
    }
   ],
   "source": [
    "# n_factor\n",
    "new_factor = []\n",
    "new_factor1 = []\n",
    "for i in range(len(n_factor)):\n",
    "    for j in range(14):\n",
    "        new_factor.append(n_factor[i])\n",
    "for i in range(len(n_factor)):\n",
    "    for j in range(14):\n",
    "        new_factor1.append(cdistance[i])\n",
    "new_factor1"
   ]
  },
  {
   "cell_type": "code",
   "execution_count": 12,
   "metadata": {},
   "outputs": [],
   "source": [
    "toe_max=[]\n",
    "for i in range(all_geometry.shape[0]):\n",
    "    v=max(all_results[i,:,2])-min(all_results[i,:,2])\n",
    "    toe_max.append(v)"
   ]
  },
  {
   "cell_type": "code",
   "execution_count": 13,
   "metadata": {},
   "outputs": [
    {
     "data": {
      "text/plain": [
       "[<matplotlib.lines.Line2D at 0x264d7ec27b8>]"
      ]
     },
     "execution_count": 13,
     "metadata": {},
     "output_type": "execute_result"
    },
    {
     "data": {
      "image/png": "[encoded data removed]",
      "text/plain": [
       "<Figure size 432x288 with 1 Axes>"
      ]
     },
     "metadata": {},
     "output_type": "display_data"
    }
   ],
   "source": [
    "plt.plot(toe_max)"
   ]
  },
  {
   "cell_type": "code",
   "execution_count": 14,
   "metadata": {},
   "outputs": [
    {
     "data": {
      "text/plain": [
       "[<matplotlib.lines.Line2D at 0x264d7f18d30>]"
      ]
     },
     "execution_count": 14,
     "metadata": {},
     "output_type": "execute_result"
    },
    {
     "data": {
      "image/png": "[encoded data removed]",
      "text/plain": [
       "<Figure size 432x288 with 1 Axes>"
      ]
     },
     "metadata": {},
     "output_type": "display_data"
    }
   ],
   "source": [
    "plt.plot(n_factor)"
   ]
  },
  {
   "cell_type": "code",
   "execution_count": 15,
   "metadata": {},
   "outputs": [
    {
     "data": {
      "text/plain": [
       "[<matplotlib.lines.Line2D at 0x264d7f77cc0>]"
      ]
     },
     "execution_count": 15,
     "metadata": {},
     "output_type": "execute_result"
    },
    {
     "data": {
      "image/png": "[encoded data removed]",
      "text/plain": [
       "<Figure size 432x288 with 1 Axes>"
      ]
     },
     "metadata": {},
     "output_type": "display_data"
    }
   ],
   "source": [
    "plt.plot(cdistance)"
   ]
  },
  {
   "cell_type": "code",
   "execution_count": 16,
   "metadata": {},
   "outputs": [
    {
     "data": {
      "text/plain": [
       "[<matplotlib.lines.Line2D at 0x264d7fcdfd0>]"
      ]
     },
     "execution_count": 16,
     "metadata": {},
     "output_type": "execute_result"
    },
    {
     "data": {
      "image/png": "[encoded data removed]",
      "text/plain": [
       "<Figure size 432x288 with 1 Axes>"
      ]
     },
     "metadata": {},
     "output_type": "display_data"
    }
   ],
   "source": [
    "plt.plot(toe_max)"
   ]
  },
  {
   "cell_type": "code",
   "execution_count": 17,
   "metadata": {},
   "outputs": [
    {
     "data": {
      "text/plain": [
       "array([  2, -14,   5])"
      ]
     },
     "execution_count": 17,
     "metadata": {},
     "output_type": "execute_result"
    }
   ],
   "source": [
    "a = np.cross([3,-1,-4],[2,1,2])\n",
    "a"
   ]
  },
  {
   "cell_type": "code",
   "execution_count": 18,
   "metadata": {},
   "outputs": [],
   "source": [
    "X_flat=all_geometry.reshape((all_geometry.shape[0], -1))\n",
    "X=[]\n",
    "output=[]\n",
    "for i in range(X_flat.shape[0]):\n",
    "    for j in range(all_results[i].shape[0]):\n",
    "        X.append(list(np.append(X_flat[i],all_results[i][j][0])))\n",
    "        output.append(list(all_results[i][j][1:]))\n",
    "X=np.array(X)\n",
    "output=np.array(output)\n",
    "y=output\n",
    "X=X.astype('float32')\n",
    "y=y.astype('float32')\n",
    "\n",
    "#X_train,X_test,y_train,y_test=train_test_split(X,y,test_size=0.3)\n",
    "\n",
    "train_df=pd.DataFrame(X)\n",
    "train_df[25]=new_factor\n",
    "train_df[26]=new_factor1\n",
    "train_df[27]=y[:,0]\n",
    "train_df[28]=y[:,1]\n",
    "train_df[29]=y[:,2]\n",
    "train_df[30]=y[:,3]\n",
    "target=train_df[24:30]\n",
    "train_df.to_csv(\"hopetesting.csv\")"
   ]
  },
  {
   "cell_type": "code",
   "execution_count": 19,
   "metadata": {},
   "outputs": [
    {
     "data": {
      "text/plain": [
       "0"
      ]
     },
     "execution_count": 19,
     "metadata": {},
     "output_type": "execute_result"
    }
   ],
   "source": [
    "idx=[]\n",
    "for i in range(train_df.shape[0]):\n",
    "    if (train_df[28][i]>4 or train_df[28][i]<-4) :\n",
    "        idx.append(i)\n",
    "len(idx)"
   ]
  },
  {
   "cell_type": "code",
   "execution_count": 20,
   "metadata": {},
   "outputs": [
    {
     "data": {
      "text/plain": [
       "(224, 31)"
      ]
     },
     "execution_count": 20,
     "metadata": {},
     "output_type": "execute_result"
    }
   ],
   "source": [
    "train_df = train_df.drop(index = idx, axis=0)\n",
    "train_df.shape"
   ]
  },
  {
   "cell_type": "code",
   "execution_count": 43,
   "metadata": {},
   "outputs": [],
   "source": [
    "train_df.to_csv('hope4.csv')"
   ]
  },
  {
   "cell_type": "code",
   "execution_count": null,
   "metadata": {},
   "outputs": [],
   "source": []
  }
 ],
 "metadata": {
  "kernelspec": {
   "display_name": "Python 3",
   "language": "python",
   "name": "python3"
  },
  "language_info": {
   "codemirror_mode": {
    "name": "ipython",
    "version": 3
   },
   "file_extension": ".py",
   "mimetype": "text/x-python",
   "name": "python",
   "nbconvert_exporter": "python",
   "pygments_lexer": "ipython3",
   "version": "3.6.5"
  }
 },
 "nbformat": 4,
 "nbformat_minor": 5
}
