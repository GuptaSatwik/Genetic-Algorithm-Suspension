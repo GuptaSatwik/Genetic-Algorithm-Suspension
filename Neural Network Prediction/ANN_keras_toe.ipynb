{
 "cells": [
  {
   "cell_type": "markdown",
   "metadata": {},
   "source": [
    "# Artificial Neural Network for prediciting Camber and Toe extrema"
   ]
  },
  {
   "cell_type": "markdown",
   "metadata": {},
   "source": [
    "## Install any missing libraries"
   ]
  },
  {
   "cell_type": "code",
   "execution_count": null,
   "metadata": {},
   "outputs": [],
   "source": [
    "!pip3 install openpyxl"
   ]
  },
  {
   "cell_type": "markdown",
   "metadata": {},
   "source": [
    "## Import all libraries"
   ]
  },
  {
   "cell_type": "code",
   "execution_count": 1,
   "metadata": {},
   "outputs": [],
   "source": [
    "import glob \n",
    "import random\n",
    "import numpy as np\n",
    "import pandas as pd\n",
    "import math\n",
    "import os\n",
    "import copy\n",
    "from sklearn.model_selection import train_test_split\n",
    "from keras.models import Sequential\n",
    "from keras.layers import Dense, Dropout\n",
    "from sklearn.preprocessing import MinMaxScaler\n",
    "import tensorflow as tf\n",
    "from keras import layers\n",
    "from keras.optimizers import SGD, Adam"
   ]
  },
  {
   "cell_type": "markdown",
   "metadata": {},
   "source": [
    "## Importing, Cleaning, and Preparing Data"
   ]
  },
  {
   "cell_type": "code",
   "execution_count": 2,
   "metadata": {},
   "outputs": [],
   "source": [
    "files=glob.glob(\"data/*.xlsx\",recursive=True)\n",
    "population=[]\n",
    "for i in range(0, len(files)):\n",
    "    parent=pd.read_excel(files[i],header=None).values\n",
    "    population.append(parent)\n",
    "population=np.array(population,dtype=object)"
   ]
  },
  {
   "cell_type": "code",
   "execution_count": 3,
   "metadata": {},
   "outputs": [],
   "source": [
    "all_geometry = []\n",
    "all_results = []\n",
    "for i in range(0, len(population)):\n",
    "    pop = pd.DataFrame(population[i])\n",
    "    pop = pop.drop(index=[20, 21], axis=0)\n",
    "    geometry = pop.iloc[14:22, 1:4].values\n",
    "    results = pop.iloc[82:96, 1:6].values\n",
    "    all_geometry.append(geometry)\n",
    "    all_results.append(results)\n",
    "all_geometry = np.array(all_geometry)\n",
    "all_results = np.array(all_results)"
   ]
  },
  {
   "cell_type": "code",
   "execution_count": 4,
   "metadata": {},
   "outputs": [],
   "source": [
    "X_flat=all_geometry.reshape((all_geometry.shape[0], -1))"
   ]
  },
  {
   "cell_type": "code",
   "execution_count": 5,
   "metadata": {},
   "outputs": [],
   "source": [
    "X=[]\n",
    "output=[]\n",
    "for i in range(X_flat.shape[0]):\n",
    "    for j in range(all_results[i].shape[0]):\n",
    "        X.append(list(np.append(X_flat[i],all_results[i][j][0])))\n",
    "        output.append(list(all_results[i][j][1:]))\n",
    "X=np.array(X)\n",
    "output=np.array(output)"
   ]
  },
  {
   "cell_type": "code",
   "execution_count": 6,
   "metadata": {},
   "outputs": [],
   "source": [
    "#output=np.empty(shape=[all_results.shape[0],4])\n",
    "#for i in range(all_results.shape[0]):\n",
    "    #output[i,0]=max(all_results[i,:,0])\n",
    "    #output[i,1]=min(all_results[i,:,0])\n",
    "    #output[i,2]=max(all_results[i,:,1])\n",
    "    #output[i,3]=min(all_results[i,:,1])"
   ]
  },
  {
   "cell_type": "code",
   "execution_count": 10,
   "metadata": {},
   "outputs": [],
   "source": [
    "y=output\n",
    "X=X.astype('float32')\n",
    "y=y.astype('float32')\n",
    "\n",
    "#X_train,X_test,y_train,y_test=train_test_split(X,y,test_size=0.3)\n",
    "\n",
    "train_df=pd.DataFrame(X)\n",
    "train_df[25]=y[:,0]\n",
    "train_df[26]=y[:,1]\n",
    "train_df[27]=y[:,2]\n",
    "train_df[28]=y[:,3]\n",
    "target=train_df[24:28]\n",
    "idx=[]\n",
    "for i in range(train_df.shape[0]):\n",
    "    if (train_df[26][i]>2 or train_df[26][i]<-2) :\n",
    "        idx.append(i)\n",
    "train_df = train_df.drop(index = idx, axis=0)\n",
    "train_df.shape\n",
    "train_df.to_csv('toe_optimized_data.csv')"
   ]
  },
  {
   "cell_type": "markdown",
   "metadata": {},
   "source": [
    "## Scaling Data between 0 and 1"
   ]
  },
  {
   "cell_type": "code",
   "execution_count": null,
   "metadata": {},
   "outputs": [],
   "source": [
    "scaler = MinMaxScaler(feature_range=(-1, 1))\n",
    "scaled_train = scaler.fit_transform(train_df)\n",
    "\n",
    "# Print out the adjustment that the scaler applied to the data\n",
    "print(\"Note: Median values were scaled by multiplying by {:.10f} and adding {:.6f}\".format(scaler.scale_[28], scaler.min_[28]))\n",
    "multiplied_by = scaler.scale_[28]\n",
    "added = scaler.min_[28]\n",
    "\n",
    "scaled_train_df = pd.DataFrame(scaled_train, columns=train_df.columns.values)\n",
    "scaled_train_df"
   ]
  },
  {
   "cell_type": "markdown",
   "metadata": {},
   "source": [
    "## ANN Model"
   ]
  },
  {
   "cell_type": "code",
   "execution_count": null,
   "metadata": {},
   "outputs": [],
   "source": [
    "\n",
    "model = Sequential()\n",
    "model.add(Dense(25, activation=layers.LeakyReLU()))\n",
    "model.add(Dense(50, activation=layers.LeakyReLU()))\n",
    "model.add(Dense(100, activation=layers.LeakyReLU()))\n",
    "model.add(Dense(100, activation=layers.LeakyReLU()))\n",
    "model.add(Dense(50, activation=layers.LeakyReLU()))\n",
    "model.add(Dense(25, activation=layers.LeakyReLU()))\n",
    "model.add(Dense(4,activation=layers.LeakyReLU()))\n",
    "adam = Adam(lr=0.005)\n",
    "model.compile(loss='mean_squared_error', optimizer=adam, metrics=['accuracy'])"
   ]
  },
  {
   "cell_type": "code",
   "execution_count": null,
   "metadata": {},
   "outputs": [],
   "source": [
    "X = scaled_train_df[scaled_train_df.columns[:25]].values\n",
    "Y = scaled_train_df[scaled_train_df.columns[25:29]].values"
   ]
  },
  {
   "cell_type": "code",
   "execution_count": null,
   "metadata": {},
   "outputs": [],
   "source": [
    "X_train,X_test,y_train,y_test=train_test_split(X,Y,test_size=0.2)"
   ]
  },
  {
   "cell_type": "code",
   "execution_count": null,
   "metadata": {
    "scrolled": true,
    "tags": []
   },
   "outputs": [],
   "source": [
    "model.fit(\n",
    "    X_train,\n",
    "    y_train,\n",
    "    epochs=4000,\n",
    "    batch_size=10,\n",
    "    shuffle=True,\n",
    "    verbose=1\n",
    ")"
   ]
  },
  {
   "cell_type": "markdown",
   "metadata": {},
   "source": [
    "## Predictions"
   ]
  },
  {
   "cell_type": "code",
   "execution_count": null,
   "metadata": {},
   "outputs": [],
   "source": [
    "prediction = model.predict(X_train[:5])\n",
    "print('Prediction with scaling - ',format(prediction))\n",
    "\n",
    "y_pred = prediction\n",
    "y_pred -= added\n",
    "y_pred /= multiplied_by\n",
    "print(\"Prediction - \",format(y_pred))"
   ]
  },
  {
   "cell_type": "code",
   "execution_count": null,
   "metadata": {},
   "outputs": [],
   "source": [
    "y_train[:5]"
   ]
  },
  {
   "cell_type": "code",
   "execution_count": null,
   "metadata": {},
   "outputs": [],
   "source": [
    "Y_pred=model.predict(X_test)"
   ]
  },
  {
   "cell_type": "code",
   "execution_count": null,
   "metadata": {},
   "outputs": [],
   "source": [
    "data_pred=np.concatenate((X_test,y_test),axis=1)\n",
    "data_test=np.concatenate((X_test,Y_pred),axis=1)"
   ]
  },
  {
   "cell_type": "code",
   "execution_count": null,
   "metadata": {},
   "outputs": [],
   "source": [
    "data_pred_scaled=scaler.inverse_transform(data_pred)\n",
    "data_test_scaled=scaler.inverse_transform(data_test)"
   ]
  },
  {
   "cell_type": "code",
   "execution_count": null,
   "metadata": {},
   "outputs": [],
   "source": [
    "from matplotlib import pyplot as plt\n",
    "y_test_scaled=data_test_scaled[:,25:]\n",
    "y_pred_scaled=data_pred_scaled[:,25:]\n",
    "y_ac=y_test_scaled-y_pred_scaled\n",
    "plt.plot(y_ac[:,1])"
   ]
  },
  {
   "cell_type": "code",
   "execution_count": null,
   "metadata": {},
   "outputs": [],
   "source": []
  },
  {
   "cell_type": "code",
   "execution_count": null,
   "metadata": {},
   "outputs": [],
   "source": []
  }
 ],
 "metadata": {
  "kernelspec": {
   "display_name": "Python 3",
   "language": "python",
   "name": "python3"
  },
  "language_info": {
   "codemirror_mode": {
    "name": "ipython",
    "version": 3
   },
   "file_extension": ".py",
   "mimetype": "text/x-python",
   "name": "python",
   "nbconvert_exporter": "python",
   "pygments_lexer": "ipython3",
   "version": "3.6.5"
  }
 },
 "nbformat": 4,
 "nbformat_minor": 5
}
